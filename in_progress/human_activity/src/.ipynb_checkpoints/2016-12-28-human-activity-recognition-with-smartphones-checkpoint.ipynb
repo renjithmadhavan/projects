{
 "cells": [
  {
   "cell_type": "markdown",
   "metadata": {},
   "source": [
    "# Human Activity Recognition with Smartphones"
   ]
  },
  {
   "cell_type": "markdown",
   "metadata": {},
   "source": [
    "The Human Activity Recognition database was built from the recordings of 30 study participants performing activities of daily living (ADL) while carrying a waist-mounted smartphone with embedded inertial sensors. The objective is to classify activities into one of the six activities performed.\n",
    "\n",
    "Reference: [Kaggle URL](https://www.kaggle.com/uciml/human-activity-recognition-with-smartphones)\n",
    "\n",
    "## Description of experiment\n",
    "The experiments have been carried out with a group of 30 volunteers within an age bracket of 19-48 years. Each person performed six activities (WALKING, WALKING_UPSTAIRS, WALKING_DOWNSTAIRS, SITTING, STANDING, LAYING) wearing a smartphone (Samsung Galaxy S II) on the waist. Using its embedded accelerometer and gyroscope, we captured 3-axial linear acceleration and 3-axial angular velocity at a constant rate of 50Hz. The experiments have been video-recorded to label the data manually. The obtained dataset has been randomly partitioned into two sets, where 70% of the volunteers was selected for generating the training data and 30% the test data.\n",
    "\n",
    "The sensor signals (accelerometer and gyroscope) were pre-processed by applying noise filters and then sampled in fixed-width sliding windows of 2.56 sec and 50% overlap (128 readings/window). The sensor acceleration signal, which has gravitational and body motion components, was separated using a Butterworth low-pass filter into body acceleration and gravity. The gravitational force is assumed to have only low frequency components, therefore a filter with 0.3 Hz cutoff frequency was used. From each window, a vector of features was obtained by calculating variables from the time and frequency domain.\n",
    "\n",
    "## Attribute information\n",
    "\n",
    "### For each record in the dataset the following is provided:\n",
    "\n",
    "1. Triaxial acceleration from the accelerometer (total acceleration) and the estimated body acceleration.\n",
    "2. Triaxial Angular velocity from the gyroscope.\n",
    "3. A 561-feature vector with time and frequency domain variables.\n",
    "4. Its activity label.\n",
    "5. An identifier of the subject who carried out the experiment.\n",
    "\n",
    "## File Information\n",
    "1. test.csv\n",
    "2. train.csv\n",
    "\n",
    "## CRISP Standard\n",
    "The project will use the CRISP-DM industry standard workflow.\n",
    "\n",
    "### Business Understanding\n",
    "NA"
   ]
  },
  {
   "cell_type": "markdown",
   "metadata": {},
   "source": [
    "### Data Understanding"
   ]
  },
  {
   "cell_type": "code",
   "execution_count": 10,
   "metadata": {
    "collapsed": false,
    "scrolled": false
   },
   "outputs": [
    {
     "data": {
      "text/plain": [
       "(7352, 563)"
      ]
     },
     "execution_count": 10,
     "metadata": {},
     "output_type": "execute_result"
    }
   ],
   "source": [
    "import numpy as np\n",
    "import pandas as pd\n",
    "\n",
    "train = pd.read_csv('../../../../input/human-activity/train.csv')\n",
    "test  = pd.read_csv('../../../../input/human-activity/test.csv')\n",
    "train.shape"
   ]
  },
  {
   "cell_type": "markdown",
   "metadata": {},
   "source": [
    "### Data Preparation\n",
    "\n",
    "#### **Feature Engineering**\n",
    "\n",
    "##### Tree_based feature selection\n",
    "\n",
    "The ExtraTreesClassifier class from sklearn package can be used to do the tree based feature selection. As you can esee below the number of features is reduced to 92 from 562."
   ]
  },
  {
   "cell_type": "code",
   "execution_count": 11,
   "metadata": {
    "collapsed": false
   },
   "outputs": [],
   "source": [
    "import sklearn\n",
    "from sklearn.ensemble import ExtraTreesClassifier\n",
    "from sklearn.feature_selection import SelectFromModel\n",
    "features = train.iloc[:,0:562]\n",
    "label = train['Activity']"
   ]
  },
  {
   "cell_type": "code",
   "execution_count": 12,
   "metadata": {
    "collapsed": false
   },
   "outputs": [
    {
     "name": "stdout",
     "output_type": "stream",
     "text": [
      "(7352, 92)\n"
     ]
    }
   ],
   "source": [
    "clf = ExtraTreesClassifier(random_state=1)\n",
    "clf = clf.fit(features, label)\n",
    "model = SelectFromModel(clf, prefit=True)\n",
    "new_features = model.transform(features)\n",
    "print(new_features.shape)"
   ]
  },
  {
   "cell_type": "markdown",
   "metadata": {},
   "source": [
    "##### L1-Based feature selection\n",
    "L1-Based feature selection resulted in the number of features reduced to 112 from 562."
   ]
  },
  {
   "cell_type": "code",
   "execution_count": 13,
   "metadata": {
    "collapsed": false
   },
   "outputs": [
    {
     "name": "stdout",
     "output_type": "stream",
     "text": [
      "(7352, 112)\n"
     ]
    }
   ],
   "source": [
    "from sklearn.svm import LinearSVC\n",
    "lsvc = LinearSVC(C=0.01, penalty=\"l1\", dual=False, random_state=1).fit(features, label)\n",
    "model_2 = SelectFromModel(lsvc, prefit=True)\n",
    "new_features_2 = model_2.transform(features)\n",
    "print(new_features_2.shape)"
   ]
  },
  {
   "cell_type": "markdown",
   "metadata": {},
   "source": [
    "### Modeling\n",
    "The models we will use are:\n",
    "\n",
    "1. DecisionTreeClassifier\n",
    "2. RandomForestClassifier\n",
    "3. GradientBoostingClassifier"
   ]
  },
  {
   "cell_type": "code",
   "execution_count": 14,
   "metadata": {
    "collapsed": true
   },
   "outputs": [],
   "source": [
    "from sklearn.tree import DecisionTreeClassifier\n",
    "from sklearn.ensemble import RandomForestClassifier,GradientBoostingClassifier\n",
    "Classifiers = [DecisionTreeClassifier(),RandomForestClassifier(n_estimators=200),GradientBoostingClassifier(n_estimators=200)]"
   ]
  },
  {
   "cell_type": "markdown",
   "metadata": {},
   "source": [
    "#### Base Lines Modeling - No feature Selection"
   ]
  },
  {
   "cell_type": "code",
   "execution_count": 70,
   "metadata": {
    "collapsed": false
   },
   "outputs": [],
   "source": [
    "from sklearn.metrics import accuracy_score\n",
    "import timeit\n",
    "test_features= test.iloc[:,0:562]\n",
    "Out_Accuracy_1=[]\n",
    "for clf in Classifiers:\n",
    "    tmp1=['no_sel', clf.__class__.__name__]\n",
    "    start_time = timeit.default_timer()\n",
    "    fit=clf.fit(features,label)\n",
    "    pred=fit.predict(test_features)\n",
    "    elapsed = timeit.default_timer() - start_time\n",
    "    tmp1.append(elapsed)\n",
    "    Model_1.append(clf.__class__.__name__)\n",
    "    tmp1.append(accuracy_score(test['Activity'],pred))\n",
    "    Out_Accuracy_1.append(tmp1)"
   ]
  },
  {
   "cell_type": "markdown",
   "metadata": {},
   "source": [
    "#### Modeling using Tree Based Feature selection"
   ]
  },
  {
   "cell_type": "code",
   "execution_count": 71,
   "metadata": {
    "collapsed": true
   },
   "outputs": [],
   "source": [
    "test_features= model.transform(test.iloc[:,0:562])\n",
    "for clf in Classifiers:\n",
    "    start_time = timeit.default_timer()\n",
    "    tmp1=['tree', clf.__class__.__name__]\n",
    "    fit=clf.fit(new_features,label)\n",
    "    pred=fit.predict(test_features)\n",
    "    elapsed = timeit.default_timer() - start_time\n",
    "    tmp1.append(elapsed)\n",
    "    tmp1.append(accuracy_score(test['Activity'],pred))\n",
    "    Out_Accuracy_1.append(tmp1)"
   ]
  },
  {
   "cell_type": "markdown",
   "metadata": {},
   "source": [
    "#### Modeling using L1-Based Featrue Selection"
   ]
  },
  {
   "cell_type": "code",
   "execution_count": 72,
   "metadata": {
    "collapsed": true
   },
   "outputs": [],
   "source": [
    "test_features= model_2.transform(test.iloc[:,0:562])\n",
    "for clf in Classifiers:\n",
    "    start_time = timeit.default_timer()\n",
    "    tmp1=['L1', clf.__class__.__name__]\n",
    "    fit=clf.fit(new_features_2,label)\n",
    "    pred=fit.predict(test_features)\n",
    "    elapsed = timeit.default_timer() - start_time\n",
    "    tmp1.append(elapsed)\n",
    "    tmp1.append(accuracy_score(test['Activity'],pred))\n",
    "    Out_Accuracy_1.append(tmp1)"
   ]
  },
  {
   "cell_type": "markdown",
   "metadata": {},
   "source": [
    "### Evaluation\n",
    "\n",
    "#### Accuracy"
   ]
  },
  {
   "cell_type": "code",
   "execution_count": 69,
   "metadata": {
    "collapsed": false
   },
   "outputs": [],
   "source": [
    "import seaborn as sns\n",
    "sns.set()"
   ]
  },
  {
   "cell_type": "code",
   "execution_count": 75,
   "metadata": {
    "collapsed": false
   },
   "outputs": [
    {
     "data": {
      "text/html": [
       "<div>\n",
       "<table border=\"1\" class=\"dataframe\">\n",
       "  <thead>\n",
       "    <tr style=\"text-align: right;\">\n",
       "      <th></th>\n",
       "      <th>Method</th>\n",
       "      <th>ML</th>\n",
       "      <th>elapsed</th>\n",
       "      <th>Score</th>\n",
       "    </tr>\n",
       "  </thead>\n",
       "  <tbody>\n",
       "    <tr>\n",
       "      <th>0</th>\n",
       "      <td>no_sel</td>\n",
       "      <td>DecisionTreeClassifier</td>\n",
       "      <td>5.491942</td>\n",
       "      <td>0.855107</td>\n",
       "    </tr>\n",
       "    <tr>\n",
       "      <th>1</th>\n",
       "      <td>no_sel</td>\n",
       "      <td>RandomForestClassifier</td>\n",
       "      <td>25.615557</td>\n",
       "      <td>0.927044</td>\n",
       "    </tr>\n",
       "    <tr>\n",
       "      <th>2</th>\n",
       "      <td>no_sel</td>\n",
       "      <td>GradientBoostingClassifier</td>\n",
       "      <td>375.824447</td>\n",
       "      <td>0.937903</td>\n",
       "    </tr>\n",
       "    <tr>\n",
       "      <th>3</th>\n",
       "      <td>tree</td>\n",
       "      <td>DecisionTreeClassifier</td>\n",
       "      <td>0.849529</td>\n",
       "      <td>0.832033</td>\n",
       "    </tr>\n",
       "    <tr>\n",
       "      <th>4</th>\n",
       "      <td>tree</td>\n",
       "      <td>RandomForestClassifier</td>\n",
       "      <td>9.610675</td>\n",
       "      <td>0.900238</td>\n",
       "    </tr>\n",
       "    <tr>\n",
       "      <th>5</th>\n",
       "      <td>tree</td>\n",
       "      <td>GradientBoostingClassifier</td>\n",
       "      <td>72.704296</td>\n",
       "      <td>0.923651</td>\n",
       "    </tr>\n",
       "    <tr>\n",
       "      <th>6</th>\n",
       "      <td>L1</td>\n",
       "      <td>DecisionTreeClassifier</td>\n",
       "      <td>1.053520</td>\n",
       "      <td>0.843570</td>\n",
       "    </tr>\n",
       "    <tr>\n",
       "      <th>7</th>\n",
       "      <td>L1</td>\n",
       "      <td>RandomForestClassifier</td>\n",
       "      <td>10.631086</td>\n",
       "      <td>0.908381</td>\n",
       "    </tr>\n",
       "    <tr>\n",
       "      <th>8</th>\n",
       "      <td>L1</td>\n",
       "      <td>GradientBoostingClassifier</td>\n",
       "      <td>79.728543</td>\n",
       "      <td>0.923990</td>\n",
       "    </tr>\n",
       "  </tbody>\n",
       "</table>\n",
       "</div>"
      ],
      "text/plain": [
       "   Method                          ML     elapsed     Score\n",
       "0  no_sel      DecisionTreeClassifier    5.491942  0.855107\n",
       "1  no_sel      RandomForestClassifier   25.615557  0.927044\n",
       "2  no_sel  GradientBoostingClassifier  375.824447  0.937903\n",
       "3    tree      DecisionTreeClassifier    0.849529  0.832033\n",
       "4    tree      RandomForestClassifier    9.610675  0.900238\n",
       "5    tree  GradientBoostingClassifier   72.704296  0.923651\n",
       "6      L1      DecisionTreeClassifier    1.053520  0.843570\n",
       "7      L1      RandomForestClassifier   10.631086  0.908381\n",
       "8      L1  GradientBoostingClassifier   79.728543  0.923990"
      ]
     },
     "execution_count": 75,
     "metadata": {},
     "output_type": "execute_result"
    }
   ],
   "source": [
    "df1 = pd.DataFrame(Out_Accuracy_1, columns=('Method', 'ML', 'elapsed', 'Score'))\n",
    "df1"
   ]
  },
  {
   "cell_type": "code",
   "execution_count": 85,
   "metadata": {
    "collapsed": false
   },
   "outputs": [
    {
     "data": {
      "text/plain": [
       "<seaborn.axisgrid.FacetGrid at 0x7f62e44fbac8>"
      ]
     },
     "execution_count": 85,
     "metadata": {},
     "output_type": "execute_result"
    },
    {
     "data": {
      "image/png": "[encoded data removed]",
      "text/plain": [
       "<matplotlib.figure.Figure at 0x7f62e44a4710>"
      ]
     },
     "metadata": {},
     "output_type": "display_data"
    }
   ],
   "source": [
    "g = sns.factorplot(x=\"Method\", y=\"Score\", col=\"ML\",\n",
    "                   data=df1, saturation=.5,\n",
    "                   kind=\"bar\", ci=None, aspect=0.6)\n",
    "(g.set_axis_labels(\"\", \"Score\")\n",
    " .set_xticklabels([\"no_sel\", \"tree\", \"L1\"])\n",
    " .set_titles(\"{col_name} {col_var}\")\n",
    " .set(ylim=(0, 1))\n",
    " .despine(left=True))  "
   ]
  },
  {
   "cell_type": "markdown",
   "metadata": {},
   "source": [
    "#### Running Time"
   ]
  },
  {
   "cell_type": "code",
   "execution_count": 86,
   "metadata": {
    "collapsed": false
   },
   "outputs": [
    {
     "data": {
      "text/plain": [
       "<seaborn.axisgrid.FacetGrid at 0x7f62e4b2bf28>"
      ]
     },
     "execution_count": 86,
     "metadata": {},
     "output_type": "execute_result"
    },
    {
     "data": {
      "image/png": "[encoded data removed]",
      "text/plain": [
       "<matplotlib.figure.Figure at 0x7f62e43dd438>"
      ]
     },
     "metadata": {},
     "output_type": "display_data"
    }
   ],
   "source": [
    "g = sns.factorplot(x=\"Method\", y=\"elapsed\", col=\"ML\",\n",
    "                   data=df1, saturation=.5,\n",
    "                   kind=\"bar\", ci=None, aspect=0.6)\n",
    "(g.set_axis_labels(\"\", \"Elapsed\")\n",
    " .set_xticklabels([\"no_sel\", \"tree\", \"L1\"])\n",
    " .set_titles(\"{col_name}\")\n",
    " .despine(left=True))  "
   ]
  },
  {
   "cell_type": "markdown",
   "metadata": {},
   "source": [
    "### Summary"
   ]
  },
  {
   "cell_type": "markdown",
   "metadata": {
    "collapsed": true
   },
   "source": [
    "NA"
   ]
  }
 ],
 "metadata": {
  "anaconda-cloud": {},
  "kernelspec": {
   "display_name": "Python [conda root]",
   "language": "python",
   "name": "conda-root-py"
  },
  "language_info": {
   "codemirror_mode": {
    "name": "ipython",
    "version": 3
   },
   "file_extension": ".py",
   "mimetype": "text/x-python",
   "name": "python",
   "nbconvert_exporter": "python",
   "pygments_lexer": "ipython3",
   "version": "3.5.2"
  }
 },
 "nbformat": 4,
 "nbformat_minor": 1
}
